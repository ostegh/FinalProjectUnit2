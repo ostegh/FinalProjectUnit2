{
 "cells": [
  {
   "cell_type": "markdown",
   "id": "921f9376-8a33-4f2e-8ee2-0be33db0af62",
   "metadata": {},
   "source": [
    "# Data Science Tools and Ecosystem"
   ]
  },
  {
   "cell_type": "markdown",
   "id": "419feba4-2b1d-4303-9f36-ce3423b3498e",
   "metadata": {},
   "source": [
    "In this notebook, Data Science Tools and Ecosystem are summarized."
   ]
  },
  {
   "cell_type": "markdown",
   "id": "5fcfe209-4d01-4fad-b53a-1b73431aedf4",
   "metadata": {},
   "source": [
    "**Objectives:**\n",
    "<ul>\n",
    "  <li>List popular languages for data science</li>\n",
    "<li>List popular libraries for data science</li>\n",
    "<li>list popular data science tools</li>\n",
    "<li>Show basic arithmetic in Python</li>\n",
    "<li>And show a calculation from minutes to hours in Python.</li>\n",
    "</ul>"
   ]
  },
  {
   "cell_type": "markdown",
   "id": "bce27733-437c-42ad-ad3a-44cb43619a59",
   "metadata": {},
   "source": [
    "Some of the popular languages that Data Scientists use are:\n",
    "\n",
    "1. Python\n",
    "2. R\n",
    "3. SQL\n",
    "4. Scala\n",
    "5. Java\n",
    "6. C++\n",
    "7. Julia"
   ]
  },
  {
   "cell_type": "markdown",
   "id": "0c9ee6c1-5bb1-4e77-9a0f-3324b644a1aa",
   "metadata": {},
   "source": [
    "Some of the commonly used libraries used by Data Scientists include:\n",
    "1. Pandas\n",
    "2. NumPy\n",
    "3. TensorFlow\n",
    "4. PyTorch"
   ]
  },
  {
   "cell_type": "markdown",
   "id": "c6fa82f1-1cb6-4e8e-aac5-7008a93f0f19",
   "metadata": {},
   "source": [
    "| Data Science Tools |\n",
    "|---------------------|\n",
    "|Jupyter Notebooks|\n",
    "|Anaconda|\n",
    "|GoogleColab Notebooks|"
   ]
  },
  {
   "cell_type": "markdown",
   "id": "3c1eae1d-5b11-446c-bb31-5cef15b3a50a",
   "metadata": {},
   "source": [
    "### Below are a few examples of evaluating arithmetic expressions in Python\n"
   ]
  },
  {
   "cell_type": "code",
   "execution_count": 5,
   "id": "15ea4ee6-6bd1-4f65-9095-a1c76b905358",
   "metadata": {},
   "outputs": [
    {
     "data": {
      "text/plain": [
       "17"
      ]
     },
     "execution_count": 5,
     "metadata": {},
     "output_type": "execute_result"
    }
   ],
   "source": [
    "# This a simple arithmetic expression to mutiply then add integers\n",
    "(3*4)+5\n"
   ]
  },
  {
   "cell_type": "code",
   "execution_count": 6,
   "id": "01a9fbe0-9d6d-44e6-99f7-0fba28295738",
   "metadata": {},
   "outputs": [
    {
     "data": {
      "text/plain": [
       "3.3333333333333335"
      ]
     },
     "execution_count": 6,
     "metadata": {},
     "output_type": "execute_result"
    }
   ],
   "source": [
    "#  This will convert 200 minutes to hours by diving by 60\n",
    "timeMinutes = 200\n",
    "timeMinutes / 60\n"
   ]
  },
  {
   "cell_type": "markdown",
   "id": "7a9b3661-9d5c-4688-beec-c65acb05ef65",
   "metadata": {},
   "source": [
    "## Author\n",
    "\n",
    "Owen Stegh"
   ]
  },
  {
   "cell_type": "code",
   "execution_count": null,
   "id": "965be9ea-64fc-4803-8959-2541e1aa285d",
   "metadata": {},
   "outputs": [],
   "source": []
  }
 ],
 "metadata": {
  "kernelspec": {
   "display_name": "Python 3 (ipykernel)",
   "language": "python",
   "name": "python3"
  },
  "language_info": {
   "codemirror_mode": {
    "name": "ipython",
    "version": 3
   },
   "file_extension": ".py",
   "mimetype": "text/x-python",
   "name": "python",
   "nbconvert_exporter": "python",
   "pygments_lexer": "ipython3",
   "version": "3.12.4"
  }
 },
 "nbformat": 4,
 "nbformat_minor": 5
}
